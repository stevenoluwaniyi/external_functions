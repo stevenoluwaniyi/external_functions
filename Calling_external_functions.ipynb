{
 "cells": [
  {
   "cell_type": "markdown",
   "id": "f5601078",
   "metadata": {},
   "source": [
    "## How to call functions with chat models\n",
    "\n",
    "OpenAI has added a number of dazzling features in its AI push, one that sparkled for me was the ability to call external functions. I translate this as being able to integrate external APIs into openAI's fleet of APIs including the chat completions API (fact check) used by chatgpt, Open AIs flagship product. This integration invites a wide range of possibilties. In this article, I show one of those, very simple but useful, possibilities in my article below\n",
    "\n",
    "This notebook covers how to use the Chat Completions API in combination with external functions to extend the capabilities of GPT models. In this case the chat completions api will be calling the weather api as an external function.\n",
    "\n",
    "The external function in this case is a python function. The python function retrieves the current weather information for a specified location using the OpenWeather API. This function is then called in the openai function. \n",
    "\n",
    "This way you can ask chat completions to give you the temperature reading for any location like you would ask a local at said destination ;)\n",
    "\n",
    "This is a very simple use case but knowing that you can integrate the OpenAI API with external APIs will give you the capability to build tools that can provide significant value to you in your day to day. From conversationally scheduling important events on your calendar (Google API) to making a last minute reservation to your favorite restuarant without having to go through multiple clicks.\n",
    "\n",
    "Please sure your thoughts on how external functions can be integrated into OpenAI API!"
   ]
  },
  {
   "cell_type": "markdown",
   "id": "303c7f61",
   "metadata": {},
   "source": [
    "## Prerequisites"
   ]
  },
  {
   "cell_type": "markdown",
   "id": "5d4e626b",
   "metadata": {},
   "source": [
    "## 1. OpenAI API key\n",
    "\n",
    "Create OpenAI API key - https://help.openai.com/en/articles/4936850-where-do-i-find-my-api-key"
   ]
  },
  {
   "cell_type": "markdown",
   "id": "2751bf6a",
   "metadata": {},
   "source": [
    "# 2. Openweather API key\n",
    "\n",
    "Create Openweather API key - https://openweathermap.org/appid#:~:text=Once%20you%20sign%20up%20using,additional%20API%20keys%20if%20needed."
   ]
  },
  {
   "cell_type": "markdown",
   "id": "d89b3742",
   "metadata": {},
   "source": [
    "# Running the function"
   ]
  },
  {
   "cell_type": "code",
   "execution_count": null,
   "id": "a8577022",
   "metadata": {},
   "outputs": [],
   "source": [
    "!pip install openai"
   ]
  },
  {
   "cell_type": "markdown",
   "id": "375f8dd1",
   "metadata": {},
   "source": [
    "### Import all the necessary modules needed. Most important are openai "
   ]
  },
  {
   "cell_type": "code",
   "execution_count": null,
   "id": "863361c1",
   "metadata": {},
   "outputs": [],
   "source": [
    "import openai\n",
    "import json\n",
    "import os\n",
    "import requests"
   ]
  },
  {
   "cell_type": "markdown",
   "id": "9b5ee11e",
   "metadata": {},
   "source": [
    "##  Set the API keys environment"
   ]
  },
  {
   "cell_type": "code",
   "execution_count": null,
   "id": "9db4681d",
   "metadata": {},
   "outputs": [],
   "source": [
    "os.environ[\"OPENAI_API_KEY\"] = \"<OPENAI_API_KEY>\"\n",
    "os.environ[\"OPEN_WEATHER_API_KEY\"] = \"<OPEN_WEATHER_API_KEY>\""
   ]
  },
  {
   "cell_type": "markdown",
   "id": "955b46bb",
   "metadata": {},
   "source": [
    "## Assign a variable to the weather API and Open AI keys"
   ]
  },
  {
   "cell_type": "code",
   "execution_count": null,
   "id": "e19a001c",
   "metadata": {},
   "outputs": [],
   "source": [
    "weather_api_key=os.getenv(\"OPEN_WEATHER_API_KEY\")"
   ]
  },
  {
   "cell_type": "code",
   "execution_count": null,
   "id": "02f5bd54",
   "metadata": {},
   "outputs": [],
   "source": [
    "api_key=os.getenv(\"OPENAI_API_KEY\")\n",
    "openai.api_key = api_key"
   ]
  },
  {
   "cell_type": "markdown",
   "id": "74efb8f0",
   "metadata": {},
   "source": [
    "## Assign the OpenAI object to a variable"
   ]
  },
  {
   "cell_type": "code",
   "execution_count": null,
   "id": "174a18bc",
   "metadata": {},
   "outputs": [],
   "source": [
    "client = openai.OpenAI()"
   ]
  },
  {
   "cell_type": "markdown",
   "id": "e938518d",
   "metadata": {},
   "source": [
    "### Function to convert from Kelvin to Fahrenheit"
   ]
  },
  {
   "cell_type": "code",
   "execution_count": null,
   "id": "36c98721",
   "metadata": {},
   "outputs": [],
   "source": [
    "def kelvin_to_fahrenheit(kelvin):\n",
    "    return (kelvin - 273.15) * 9/5 + 32"
   ]
  },
  {
   "cell_type": "markdown",
   "id": "e3e27c1c",
   "metadata": {},
   "source": [
    "### Define the get weather function that utilizes the Open weather API"
   ]
  },
  {
   "cell_type": "code",
   "execution_count": null,
   "id": "a695cbff",
   "metadata": {},
   "outputs": [],
   "source": [
    "def get_weather(location,api_key=weather_api_key):\n",
    "    \"\"\"\n",
    "    Get current weather information for a given location using OpenWeather API.\n",
    "\n",
    "    Parameters:\n",
    "    - api_key (str): Your OpenWeather API key\n",
    "    - location (str): The location for which you want to get the weather information\n",
    "\n",
    "    Returns:\n",
    "    - dict: Weather information in a dictionary format\n",
    "    \"\"\"\n",
    "    \n",
    "    base_url = \"http://api.openweathermap.org/data/2.5/weather\"\n",
    "    \n",
    "    location=location.lower()\n",
    "    \n",
    "    params = {\n",
    "        'q': location,\n",
    "        'appid': api_key,\n",
    "    }\n",
    "\n",
    "    try:\n",
    "        response = requests.get(base_url, params=params)\n",
    "        data = response.json()\n",
    "\n",
    "        if response.status_code == 200:\n",
    "            weather_info = {\n",
    "                'temperature': kelvin_to_fahrenheit(data['main']['temp']),\n",
    "            }\n",
    "            return json.dumps(f\"temperature_in_{location}: {weather_info['temperature']}\")\n",
    "        else:\n",
    "            return {'error': f\"Error {response.status_code}: {data['message']}\"}\n",
    "\n",
    "    except Exception as e:\n",
    "        return {'error': f\"An error occurred: {str(e)}\"}"
   ]
  },
  {
   "cell_type": "markdown",
   "id": "9c0cdc44",
   "metadata": {},
   "source": [
    "## Define the get temperature location function that utilizes the OpenAI API and integrates the external weather function"
   ]
  },
  {
   "cell_type": "code",
   "execution_count": null,
   "id": "aca5af9c",
   "metadata": {},
   "outputs": [],
   "source": [
    "def get_temperature_location(location):\n",
    "    # Step 1: send the conversation and available functions to the model\n",
    "    weather_prompt=f\"What's the weather like in {location}? Can you only use the city name and specify temperature in Fahrenheit?\"\n",
    "    messages = [{\"role\": \"user\", \"content\": weather_prompt }]\n",
    "    tools = [\n",
    "        {\n",
    "            \"type\": \"function\",\n",
    "            \"function\": { #this is where the external function is specified\n",
    "                \"name\": \"get_weather\",\n",
    "                \"description\": \"Get the current weather in a given location\",\n",
    "                \"parameters\": {\n",
    "                    \"type\": \"object\",\n",
    "                    \"properties\": {\n",
    "                        \"location\": {\n",
    "                            \"type\": \"string\",\n",
    "                            \"description\": \"The city and state, e.g. San Francisco, CA\",\n",
    "                        },\n",
    "                        \"api_key\": {\"type\": \"string\", \"description\": \"api keys\"},\n",
    "                    },\n",
    "                    \"required\": [\"location\"],\n",
    "                },\n",
    "            },\n",
    "        }\n",
    "    ]\n",
    "    response = client.chat.completions.create(\n",
    "        model=\"gpt-3.5-turbo-1106\",\n",
    "        messages=messages,\n",
    "        tools=tools,\n",
    "        tool_choice=\"auto\",  # auto is default, but we'll be explicit\n",
    "    )\n",
    "    response_message = response.choices[0].message\n",
    "    tool_calls = response_message.tool_calls\n",
    "    # Step 2: check if the model wanted to call a function\n",
    "    if tool_calls:\n",
    "        # Step 3: call the function\n",
    "        # Note: the JSON response may not always be valid; be sure to handle errors\n",
    "        available_functions = {\n",
    "            \"get_weather\": get_weather,\n",
    "        }  # only one function in this example, but you can have multiple\n",
    "        messages.append(response_message)  # extend conversation with assistant's reply\n",
    "        # Step 4: send the info for each function call and function response to the model\n",
    "        for tool_call in tool_calls:\n",
    "            function_name = tool_call.function.name\n",
    "            function_to_call = available_functions[function_name]\n",
    "            function_args = json.loads(tool_call.function.arguments)\n",
    "            function_response = function_to_call(\n",
    "                location=function_args.get(\"location\")\n",
    "            )\n",
    "            messages.append(\n",
    "                {\n",
    "                    \"tool_call_id\": tool_call.id,\n",
    "                    \"role\": \"tool\",\n",
    "                    \"name\": function_name,\n",
    "                    \"content\": function_response,\n",
    "                }\n",
    "            )  # extend conversation with function response\n",
    "        second_response = client.chat.completions.create(\n",
    "            model=\"gpt-3.5-turbo-1106\",\n",
    "            messages=messages,\n",
    "        )  # get a new response from the model where it can see the function response\n",
    "        return second_response.choices[0].message.content"
   ]
  },
  {
   "cell_type": "markdown",
   "id": "34814e71",
   "metadata": {},
   "source": [
    "## Test out the function"
   ]
  },
  {
   "cell_type": "code",
   "execution_count": null,
   "id": "bc9c56c9",
   "metadata": {},
   "outputs": [],
   "source": [
    "get_temperature_location(\"London\")"
   ]
  },
  {
   "cell_type": "code",
   "execution_count": null,
   "id": "3eac4ae6",
   "metadata": {},
   "outputs": [],
   "source": []
  }
 ],
 "metadata": {
  "kernelspec": {
   "display_name": "Python 3 (ipykernel)",
   "language": "python",
   "name": "python3"
  },
  "language_info": {
   "codemirror_mode": {
    "name": "ipython",
    "version": 3
   },
   "file_extension": ".py",
   "mimetype": "text/x-python",
   "name": "python",
   "nbconvert_exporter": "python",
   "pygments_lexer": "ipython3",
   "version": "3.9.12"
  }
 },
 "nbformat": 4,
 "nbformat_minor": 5
}
